{
 "cells": [
  {
   "cell_type": "code",
   "execution_count": 1,
   "metadata": {},
   "outputs": [],
   "source": [
    "import matplotlib.pyplot as plt\n",
    "import numpy as np\n",
    "import pandas as pd\n",
    "import ipywidgets"
   ]
  },
  {
   "cell_type": "code",
   "execution_count": 2,
   "metadata": {},
   "outputs": [],
   "source": [
    "ufos = pd.read_csv(\"ufo-scrubbed-geocoded-time-standardized-00.csv\",\n",
    "                  names = [\"date\", \"city\", \"state\", \"country\",\n",
    "                          \"shape\", \"duration_seconds\", \"duration\",\n",
    "                          \"comment\", \"report_date\", \"latitude\", \"longitude\"],\n",
    "                  parse_dates = [\"date\", \"report_date\"])\n"
   ]
  },
  {
   "cell_type": "code",
   "execution_count": 3,
   "metadata": {
    "scrolled": true
   },
   "outputs": [
    {
     "data": {
      "text/html": [
       "<div>\n",
       "<style scoped>\n",
       "    .dataframe tbody tr th:only-of-type {\n",
       "        vertical-align: middle;\n",
       "    }\n",
       "\n",
       "    .dataframe tbody tr th {\n",
       "        vertical-align: top;\n",
       "    }\n",
       "\n",
       "    .dataframe thead th {\n",
       "        text-align: right;\n",
       "    }\n",
       "</style>\n",
       "<table border=\"1\" class=\"dataframe\">\n",
       "  <thead>\n",
       "    <tr style=\"text-align: right;\">\n",
       "      <th></th>\n",
       "      <th>date</th>\n",
       "      <th>city</th>\n",
       "      <th>state</th>\n",
       "      <th>country</th>\n",
       "      <th>shape</th>\n",
       "      <th>duration_seconds</th>\n",
       "      <th>duration</th>\n",
       "      <th>comment</th>\n",
       "      <th>report_date</th>\n",
       "      <th>latitude</th>\n",
       "      <th>longitude</th>\n",
       "    </tr>\n",
       "  </thead>\n",
       "  <tbody>\n",
       "    <tr>\n",
       "      <th>0</th>\n",
       "      <td>1949-10-10 20:30:00</td>\n",
       "      <td>san marcos</td>\n",
       "      <td>tx</td>\n",
       "      <td>us</td>\n",
       "      <td>cylinder</td>\n",
       "      <td>2700.0</td>\n",
       "      <td>45 minutes</td>\n",
       "      <td>This event took place in early fall around 194...</td>\n",
       "      <td>2004-04-27</td>\n",
       "      <td>29.883056</td>\n",
       "      <td>-97.941111</td>\n",
       "    </tr>\n",
       "    <tr>\n",
       "      <th>1</th>\n",
       "      <td>1949-10-10 21:00:00</td>\n",
       "      <td>lackland afb</td>\n",
       "      <td>tx</td>\n",
       "      <td>NaN</td>\n",
       "      <td>light</td>\n",
       "      <td>7200.0</td>\n",
       "      <td>1-2 hrs</td>\n",
       "      <td>1949 Lackland AFB&amp;#44 TX.  Lights racing acros...</td>\n",
       "      <td>2005-12-16</td>\n",
       "      <td>29.384210</td>\n",
       "      <td>-98.581082</td>\n",
       "    </tr>\n",
       "    <tr>\n",
       "      <th>2</th>\n",
       "      <td>1955-10-10 17:00:00</td>\n",
       "      <td>chester (uk/england)</td>\n",
       "      <td>NaN</td>\n",
       "      <td>gb</td>\n",
       "      <td>circle</td>\n",
       "      <td>20.0</td>\n",
       "      <td>20 seconds</td>\n",
       "      <td>Green/Orange circular disc over Chester&amp;#44 En...</td>\n",
       "      <td>2008-01-21</td>\n",
       "      <td>53.200000</td>\n",
       "      <td>-2.916667</td>\n",
       "    </tr>\n",
       "    <tr>\n",
       "      <th>3</th>\n",
       "      <td>1956-10-10 21:00:00</td>\n",
       "      <td>edna</td>\n",
       "      <td>tx</td>\n",
       "      <td>us</td>\n",
       "      <td>circle</td>\n",
       "      <td>20.0</td>\n",
       "      <td>1/2 hour</td>\n",
       "      <td>My older brother and twin sister were leaving ...</td>\n",
       "      <td>2004-01-17</td>\n",
       "      <td>28.978333</td>\n",
       "      <td>-96.645833</td>\n",
       "    </tr>\n",
       "    <tr>\n",
       "      <th>4</th>\n",
       "      <td>1960-10-10 20:00:00</td>\n",
       "      <td>kaneohe</td>\n",
       "      <td>hi</td>\n",
       "      <td>us</td>\n",
       "      <td>light</td>\n",
       "      <td>900.0</td>\n",
       "      <td>15 minutes</td>\n",
       "      <td>AS a Marine 1st Lt. flying an FJ4B fighter/att...</td>\n",
       "      <td>2004-01-22</td>\n",
       "      <td>21.418056</td>\n",
       "      <td>-157.803611</td>\n",
       "    </tr>\n",
       "    <tr>\n",
       "      <th>...</th>\n",
       "      <td>...</td>\n",
       "      <td>...</td>\n",
       "      <td>...</td>\n",
       "      <td>...</td>\n",
       "      <td>...</td>\n",
       "      <td>...</td>\n",
       "      <td>...</td>\n",
       "      <td>...</td>\n",
       "      <td>...</td>\n",
       "      <td>...</td>\n",
       "      <td>...</td>\n",
       "    </tr>\n",
       "    <tr>\n",
       "      <th>80327</th>\n",
       "      <td>2013-09-09 21:15:00</td>\n",
       "      <td>nashville</td>\n",
       "      <td>tn</td>\n",
       "      <td>us</td>\n",
       "      <td>light</td>\n",
       "      <td>600.0</td>\n",
       "      <td>10 minutes</td>\n",
       "      <td>Round from the distance/slowly changing colors...</td>\n",
       "      <td>2013-09-30</td>\n",
       "      <td>36.165833</td>\n",
       "      <td>-86.784444</td>\n",
       "    </tr>\n",
       "    <tr>\n",
       "      <th>80328</th>\n",
       "      <td>2013-09-09 22:00:00</td>\n",
       "      <td>boise</td>\n",
       "      <td>id</td>\n",
       "      <td>us</td>\n",
       "      <td>circle</td>\n",
       "      <td>1200.0</td>\n",
       "      <td>20 minutes</td>\n",
       "      <td>Boise&amp;#44 ID&amp;#44 spherical&amp;#44 20 min&amp;#44 10 r...</td>\n",
       "      <td>2013-09-30</td>\n",
       "      <td>43.613611</td>\n",
       "      <td>-116.202500</td>\n",
       "    </tr>\n",
       "    <tr>\n",
       "      <th>80329</th>\n",
       "      <td>2013-09-09 22:00:00</td>\n",
       "      <td>napa</td>\n",
       "      <td>ca</td>\n",
       "      <td>us</td>\n",
       "      <td>other</td>\n",
       "      <td>1200.0</td>\n",
       "      <td>hour</td>\n",
       "      <td>Napa UFO&amp;#44</td>\n",
       "      <td>2013-09-30</td>\n",
       "      <td>38.297222</td>\n",
       "      <td>-122.284444</td>\n",
       "    </tr>\n",
       "    <tr>\n",
       "      <th>80330</th>\n",
       "      <td>2013-09-09 22:20:00</td>\n",
       "      <td>vienna</td>\n",
       "      <td>va</td>\n",
       "      <td>us</td>\n",
       "      <td>circle</td>\n",
       "      <td>5.0</td>\n",
       "      <td>5 seconds</td>\n",
       "      <td>Saw a five gold lit cicular craft moving fastl...</td>\n",
       "      <td>2013-09-30</td>\n",
       "      <td>38.901111</td>\n",
       "      <td>-77.265556</td>\n",
       "    </tr>\n",
       "    <tr>\n",
       "      <th>80331</th>\n",
       "      <td>2013-09-09 23:00:00</td>\n",
       "      <td>edmond</td>\n",
       "      <td>ok</td>\n",
       "      <td>us</td>\n",
       "      <td>cigar</td>\n",
       "      <td>1020.0</td>\n",
       "      <td>17 minutes</td>\n",
       "      <td>2 witnesses 2  miles apart&amp;#44 Red &amp;amp; White...</td>\n",
       "      <td>2013-09-30</td>\n",
       "      <td>35.652778</td>\n",
       "      <td>-97.477778</td>\n",
       "    </tr>\n",
       "  </tbody>\n",
       "</table>\n",
       "<p>80332 rows × 11 columns</p>\n",
       "</div>"
      ],
      "text/plain": [
       "                     date                  city state country     shape  \\\n",
       "0     1949-10-10 20:30:00            san marcos    tx      us  cylinder   \n",
       "1     1949-10-10 21:00:00          lackland afb    tx     NaN     light   \n",
       "2     1955-10-10 17:00:00  chester (uk/england)   NaN      gb    circle   \n",
       "3     1956-10-10 21:00:00                  edna    tx      us    circle   \n",
       "4     1960-10-10 20:00:00               kaneohe    hi      us     light   \n",
       "...                   ...                   ...   ...     ...       ...   \n",
       "80327 2013-09-09 21:15:00             nashville    tn      us     light   \n",
       "80328 2013-09-09 22:00:00                 boise    id      us    circle   \n",
       "80329 2013-09-09 22:00:00                  napa    ca      us     other   \n",
       "80330 2013-09-09 22:20:00                vienna    va      us    circle   \n",
       "80331 2013-09-09 23:00:00                edmond    ok      us     cigar   \n",
       "\n",
       "       duration_seconds    duration  \\\n",
       "0                2700.0  45 minutes   \n",
       "1                7200.0     1-2 hrs   \n",
       "2                  20.0  20 seconds   \n",
       "3                  20.0    1/2 hour   \n",
       "4                 900.0  15 minutes   \n",
       "...                 ...         ...   \n",
       "80327             600.0  10 minutes   \n",
       "80328            1200.0  20 minutes   \n",
       "80329            1200.0        hour   \n",
       "80330               5.0   5 seconds   \n",
       "80331            1020.0  17 minutes   \n",
       "\n",
       "                                                 comment report_date  \\\n",
       "0      This event took place in early fall around 194...  2004-04-27   \n",
       "1      1949 Lackland AFB&#44 TX.  Lights racing acros...  2005-12-16   \n",
       "2      Green/Orange circular disc over Chester&#44 En...  2008-01-21   \n",
       "3      My older brother and twin sister were leaving ...  2004-01-17   \n",
       "4      AS a Marine 1st Lt. flying an FJ4B fighter/att...  2004-01-22   \n",
       "...                                                  ...         ...   \n",
       "80327  Round from the distance/slowly changing colors...  2013-09-30   \n",
       "80328  Boise&#44 ID&#44 spherical&#44 20 min&#44 10 r...  2013-09-30   \n",
       "80329                                       Napa UFO&#44  2013-09-30   \n",
       "80330  Saw a five gold lit cicular craft moving fastl...  2013-09-30   \n",
       "80331  2 witnesses 2  miles apart&#44 Red &amp; White...  2013-09-30   \n",
       "\n",
       "        latitude   longitude  \n",
       "0      29.883056  -97.941111  \n",
       "1      29.384210  -98.581082  \n",
       "2      53.200000   -2.916667  \n",
       "3      28.978333  -96.645833  \n",
       "4      21.418056 -157.803611  \n",
       "...          ...         ...  \n",
       "80327  36.165833  -86.784444  \n",
       "80328  43.613611 -116.202500  \n",
       "80329  38.297222 -122.284444  \n",
       "80330  38.901111  -77.265556  \n",
       "80331  35.652778  -97.477778  \n",
       "\n",
       "[80332 rows x 11 columns]"
      ]
     },
     "execution_count": 3,
     "metadata": {},
     "output_type": "execute_result"
    }
   ],
   "source": [
    "ufos"
   ]
  },
  {
   "cell_type": "code",
   "execution_count": 18,
   "metadata": {},
   "outputs": [],
   "source": [
    "ufos= ufos.fillna({'country':'unknown','state':'unknown','shape':'unknown'})"
   ]
  },
  {
   "cell_type": "markdown",
   "metadata": {},
   "source": [
    "# This is my work, scroll down for the finished answers"
   ]
  },
  {
   "cell_type": "code",
   "execution_count": 38,
   "metadata": {},
   "outputs": [
    {
     "data": {
      "application/vnd.jupyter.widget-view+json": {
       "model_id": "8da71a55736f4a9089fec4f48a578b42",
       "version_major": 2,
       "version_minor": 0
      },
      "text/plain": [
       "interactive(children=(Dropdown(description='xfield', options=('longitude', 'latitude', 'duration_seconds', 'sh…"
      ]
     },
     "metadata": {},
     "output_type": "display_data"
    }
   ],
   "source": [
    "#step 3\n",
    "@ipywidgets.interact(xfield = [\"longitude\",\"latitude\", \"duration_seconds\", 'shape','country'],\n",
    "                     yfield = [\"latitude\",\"longitude\", \"duration_seconds\", 'shape'],\n",
    "                    colormap=plt.colormaps())\n",
    "\n",
    "#These are the columns I have settled for. I tried city and state but they lagged out the whole graph and didn't look great.\n",
    "#Countries was fine looking though and shapes so I used those for catagorical data, and lat, long, and duration_seconds for numerical.\n",
    "\n",
    "def make_plot(xfield,yfield,colormap):\n",
    "    with plt.style.context('ggplot'):\n",
    "        fig, ax = plt.subplots(figsize=(20,10))\n",
    "        #if(xfield=='latitude' or xfield == 'longitude' or xfield == 'duration seconds'):\n",
    "         #   ax.plot(ufos[xfield], ufos[yfield], '.')\n",
    "        #elif(xfield == 'shape'):\n",
    "        #    ax.bar(ufos[xfield], ufos[yfield])\n",
    "        #else:\n",
    "        ax.scatter(ufos[xfield], ufos[yfield], \n",
    "                  c=np.log10(ufos['duration_seconds']), cmap=colormap)\n",
    "#used the same log10 duration_seconds because it makes the most sense to see on a colormap here\n",
    "        \n",
    "        ax.set(title = \"Widget #1\",\n",
    "       xlabel = xfield,\n",
    "       ylabel = yfield)\n",
    "#For aesthetic wanted to name the labels! Got help from https://www.earthdatascience.org/courses/scientists-guide-to-plotting-data-in-python/plot-with-matplotlib/introduction-to-matplotlib-plots/customize-plot-colors-labels-matplotlib/\n",
    "    plt.show()"
   ]
  },
  {
   "cell_type": "code",
   "execution_count": 60,
   "metadata": {},
   "outputs": [
    {
     "data": {
      "image/png": "[encoded data removed]",
      "text/plain": [
       "<Figure size 432x288 with 1 Axes>"
      ]
     },
     "metadata": {
      "needs_background": "light"
     },
     "output_type": "display_data"
    }
   ],
   "source": [
    "hist = ufos['shape'].hist(bins=3)"
   ]
  },
  {
   "cell_type": "code",
   "execution_count": 56,
   "metadata": {},
   "outputs": [
    {
     "data": {
      "image/png": "[encoded data removed]",
      "text/plain": [
       "<Figure size 432x288 with 1 Axes>"
      ]
     },
     "metadata": {
      "needs_background": "light"
     },
     "output_type": "display_data"
    }
   ],
   "source": [
    "hist = ufos['longitude'].hist(bins=3)"
   ]
  },
  {
   "cell_type": "code",
   "execution_count": 57,
   "metadata": {},
   "outputs": [
    {
     "data": {
      "image/png": "[encoded data removed]",
      "text/plain": [
       "<Figure size 432x288 with 4 Axes>"
      ]
     },
     "metadata": {
      "needs_background": "light"
     },
     "output_type": "display_data"
    }
   ],
   "source": [
    "hist = ufos.hist(bins=3)"
   ]
  },
  {
   "cell_type": "code",
   "execution_count": 51,
   "metadata": {
    "scrolled": true
   },
   "outputs": [
    {
     "data": {
      "application/vnd.jupyter.widget-view+json": {
       "model_id": "244484e4113140409b23c9f1f6fe4f23",
       "version_major": 2,
       "version_minor": 0
      },
      "text/plain": [
       "interactive(children=(Dropdown(description='x', options=('date', 'city', 'state', 'country', 'shape', 'duratio…"
      ]
     },
     "metadata": {},
     "output_type": "display_data"
    }
   ],
   "source": [
    "@ipywidgets.interact(binner = ufos)\n",
    "def make_plot(x):\n",
    "    with plt.style.context('ggplot'):\n",
    "        fig, ax = plt.subplots(figsize=(20,10))\n",
    "        #if(xfield=='latitude' or xfield == 'longitude' or xfield == 'duration seconds'):\n",
    "         #   ax.plot(ufos[xfield], ufos[yfield], '.')\n",
    "        #elif(xfield == 'shape'):\n",
    "        #    ax.bar(ufos[xfield], ufos[yfield])\n",
    "        #else:\n",
    "        hist = ufos['shape'].hist(bins=3)\n",
    "\n",
    "    plt.show()"
   ]
  },
  {
   "cell_type": "code",
   "execution_count": 97,
   "metadata": {},
   "outputs": [
    {
     "data": {
      "application/vnd.jupyter.widget-view+json": {
       "model_id": "868e9ed029374a91938d1e7beeebdc1d",
       "version_major": 2,
       "version_minor": 0
      },
      "text/plain": [
       "interactive(children=(Dropdown(description='binner', options=('longitude', 'latitude', 'duration_seconds', 'sh…"
      ]
     },
     "metadata": {},
     "output_type": "display_data"
    }
   ],
   "source": [
    "\n",
    "@ipywidgets.interact(binner = [\"longitude\",\"latitude\", \"duration_seconds\", 'shape','country'],bins = ipywidgets.IntSlider(min=1, max=30, step=1, value=3))\n",
    "#https://ipywidgets.readthedocs.io/en/latest/examples/Using%20Interact.html helped me undertstand how to create the intslider!\n",
    "def make_plot(binner,bins):\n",
    "    \n",
    "    fig, ax = plt.subplots(figsize=(20,10))\n",
    "    if(binner == 'shape' or binner == 'country'):\n",
    "        hist = ufos[binner].hist(bins=int(bins))\n",
    "    else:\n",
    "        \n",
    "        ufos.hist(column=binner,ax=ax, bins = int(bins))\n",
    "    plt.show()"
   ]
  },
  {
   "cell_type": "code",
   "execution_count": 79,
   "metadata": {},
   "outputs": [
    {
     "ename": "NameError",
     "evalue": "name 'IntSlider' is not defined",
     "output_type": "error",
     "traceback": [
      "\u001b[1;31m---------------------------------------------------------------------------\u001b[0m",
      "\u001b[1;31mNameError\u001b[0m                                 Traceback (most recent call last)",
      "\u001b[1;32m<ipython-input-79-5fcf0333b0f3>\u001b[0m in \u001b[0;36m<module>\u001b[1;34m\u001b[0m\n\u001b[1;32m----> 1\u001b[1;33m \u001b[0mIntSlider\u001b[0m\u001b[1;33m(\u001b[0m\u001b[0mmin\u001b[0m\u001b[1;33m=\u001b[0m\u001b[1;33m-\u001b[0m\u001b[1;36m10\u001b[0m\u001b[1;33m,\u001b[0m \u001b[0mmax\u001b[0m\u001b[1;33m=\u001b[0m\u001b[1;36m30\u001b[0m\u001b[1;33m,\u001b[0m \u001b[0mstep\u001b[0m\u001b[1;33m=\u001b[0m\u001b[1;36m1\u001b[0m\u001b[1;33m,\u001b[0m \u001b[0mvalue\u001b[0m\u001b[1;33m=\u001b[0m\u001b[1;36m10\u001b[0m\u001b[1;33m)\u001b[0m\u001b[1;33m\u001b[0m\u001b[1;33m\u001b[0m\u001b[0m\n\u001b[0m",
      "\u001b[1;31mNameError\u001b[0m: name 'IntSlider' is not defined"
     ]
    }
   ],
   "source": [
    "IntSlider(min=-10, max=30, step=1, value=10)"
   ]
  },
  {
   "cell_type": "code",
   "execution_count": 80,
   "metadata": {},
   "outputs": [],
   "source": [
    "irange2 = ipywidgets.IntSlider(min=0,max=100,step=1)"
   ]
  },
  {
   "cell_type": "code",
   "execution_count": 81,
   "metadata": {},
   "outputs": [
    {
     "data": {
      "application/vnd.jupyter.widget-view+json": {
       "model_id": "fd0b3e49223744299b3e05871e932589",
       "version_major": 2,
       "version_minor": 0
      },
      "text/plain": [
       "IntSlider(value=0)"
      ]
     },
     "metadata": {},
     "output_type": "display_data"
    }
   ],
   "source": [
    "irange2"
   ]
  },
  {
   "cell_type": "code",
   "execution_count": 101,
   "metadata": {},
   "outputs": [
    {
     "ename": "IndentationError",
     "evalue": "unexpected indent (<ipython-input-101-f7c7dde6b1b0>, line 10)",
     "output_type": "error",
     "traceback": [
      "\u001b[1;36m  File \u001b[1;32m\"<ipython-input-101-f7c7dde6b1b0>\"\u001b[1;36m, line \u001b[1;32m10\u001b[0m\n\u001b[1;33m    def make_plot(binner,bins):\u001b[0m\n\u001b[1;37m    ^\u001b[0m\n\u001b[1;31mIndentationError\u001b[0m\u001b[1;31m:\u001b[0m unexpected indent\n"
     ]
    }
   ],
   "source": [
    "button = ipywidgets.Button(description = 'Enter') #here is the widget\n",
    "\n",
    "text = ipywidgets.IntText(\n",
    "    value=4,\n",
    "    description='Bins:',\n",
    "    \n",
    ")\n",
    "@ipywidgets.interact(binner = [\"longitude\",\"latitude\", \"duration_seconds\", 'shape','country'])\n",
    "\n",
    "    def make_plot(binner,bins):\n",
    "    \n",
    "        fig, ax = plt.subplots(figsize=(20,10))\n",
    "        if(binner == 'shape' or binner == 'country'):\n",
    "            hist = ufos[binner].hist(bins=int(bins))\n",
    "        else:\n",
    "        \n",
    "            ufos.hist(column=binner,ax=ax, bins = int(bins))\n",
    "        plt.show()\n",
    "\n",
    "def say_click(event): #here is the callback\n",
    "    @ipywidgets.interact(binner = [\"longitude\",\"latitude\", \"duration_seconds\", 'shape','country'])\n",
    "\n",
    "    def make_plot(binner,text.value):\n",
    "    \n",
    "        fig, ax = plt.subplots(figsize=(20,10))\n",
    "        if(binner == 'shape' or binner == 'country'):\n",
    "            hist = ufos[binner].hist(bins=int(text.value))\n",
    "        else:\n",
    "        \n",
    "            ufos.hist(column=binner,ax=ax, bins = int(bins))\n",
    "        plt.show()\n",
    "button.on_click(say_click)#linked function with the on_click function\n",
    "ipywidgets.HBox([button,text])"
   ]
  },
  {
   "cell_type": "markdown",
   "metadata": {},
   "source": [
    "# Ignore this work^ just my attempts at figuring our how to use a button to stop my prior code from bugging out since it takes in the text input in real-time.\n",
    "\n",
    "## Finished work is below."
   ]
  },
  {
   "cell_type": "markdown",
   "metadata": {},
   "source": [
    "## Part 1:"
   ]
  },
  {
   "cell_type": "code",
   "execution_count": 100,
   "metadata": {},
   "outputs": [
    {
     "data": {
      "application/vnd.jupyter.widget-view+json": {
       "model_id": "105039ecb8f246e8ad00fbab488db0d9",
       "version_major": 2,
       "version_minor": 0
      },
      "text/plain": [
       "interactive(children=(Dropdown(description='xfield', options=('longitude', 'latitude', 'duration_seconds', 'sh…"
      ]
     },
     "metadata": {},
     "output_type": "display_data"
    }
   ],
   "source": [
    "\n",
    "@ipywidgets.interact(xfield = [\"longitude\",\"latitude\", \"duration_seconds\", 'shape','country'],\n",
    "                     yfield = [\"latitude\",\"longitude\", \"duration_seconds\", 'shape'],\n",
    "                    colormap=plt.colormaps())\n",
    "\n",
    "#These are the columns I have settled for. I tried city and state but they lagged out the whole graph and didn't look great.\n",
    "#Countries was fine looking though and shapes so I used those for catagorical data, and lat, long, and duration_seconds for numerical.\n",
    "\n",
    "def make_plot(xfield,yfield,colormap):\n",
    "    with plt.style.context('ggplot'):\n",
    "        fig, ax = plt.subplots(figsize=(20,10))\n",
    "        #if(xfield=='latitude' or xfield == 'longitude' or xfield == 'duration seconds'):\n",
    "         #   ax.plot(ufos[xfield], ufos[yfield], '.')\n",
    "        #elif(xfield == 'shape'):\n",
    "        #    ax.bar(ufos[xfield], ufos[yfield])\n",
    "        #else:\n",
    "        ax.scatter(ufos[xfield], ufos[yfield], \n",
    "                  c=np.log10(ufos['duration_seconds']), cmap=colormap)\n",
    "#used the same log10 duration_seconds because it makes the most sense to see on a colormap here\n",
    "        \n",
    "        ax.set(title = \"Widget #1\",\n",
    "       xlabel = xfield,\n",
    "       ylabel = yfield)\n",
    "#For aesthetic wanted to name the labels! Got help from https://www.earthdatascience.org/courses/scientists-guide-to-plotting-data-in-python/plot-with-matplotlib/introduction-to-matplotlib-plots/customize-plot-colors-labels-matplotlib/\n",
    "    #plt.colorbar()\n",
    "    plt.show()"
   ]
  },
  {
   "cell_type": "markdown",
   "metadata": {},
   "source": [
    "For part one, it took some time to understand what to do, but it did help me have a better understanding of how to use widgets and incorperating that into my plots. At first I kept repeating a mistake due to me not reading the task properly. I did not realize that this was supposed to be in a scatter plot, and struggled to find a way to plot catagorical and numerical data until I reread the prompt. I used the interact of ipywidgets because it felt a lot easier then creating the widgets by hand, although I now wish I practiced that more. I created arrays containing strings of the columns I wanted to be used in my x and y. I hand picked the columns that I wanted to be used in my x and y fields because some of the columns in the dataset like 'comment' would just not make sense on a plot since comments would not be repeated.  I then added the colormap drop down since that was a task we had to accomplish. Using ggplot, I created the plot and had the x and y fields be passed down from the widget for the scatter. I also added the same scaling for the colormap, log10, for simplicity. Finally I created some labels just for fun and finished my work!"
   ]
  },
  {
   "cell_type": "markdown",
   "metadata": {},
   "source": [
    "## Part 2:"
   ]
  },
  {
   "cell_type": "code",
   "execution_count": 103,
   "metadata": {},
   "outputs": [
    {
     "data": {
      "application/vnd.jupyter.widget-view+json": {
       "model_id": "13f60f9320d54954ac5b4cb0af46cbb7",
       "version_major": 2,
       "version_minor": 0
      },
      "text/plain": [
       "interactive(children=(Dropdown(description='binner', options=('longitude', 'latitude', 'duration_seconds', 'sh…"
      ]
     },
     "metadata": {},
     "output_type": "display_data"
    }
   ],
   "source": [
    "\n",
    "@ipywidgets.interact(binner = [\"longitude\",\"latitude\", \"duration_seconds\", 'shape','country'],bins = ipywidgets.IntSlider(min=1, max=50, step=1, value=3))\n",
    "#https://ipywidgets.readthedocs.io/en/latest/examples/Using%20Interact.html helped me undertstand how to create the intslider!\n",
    "def make_plot(binner,bins):\n",
    "    \n",
    "    fig, ax = plt.subplots(figsize=(20,10))\n",
    "    if(binner == 'shape' or binner == 'country'):\n",
    "        hist = ufos[binner].hist(bins=int(bins))\n",
    "    else:\n",
    "        \n",
    "        ufos.hist(column=binner,ax=ax, bins = int(bins))\n",
    "    plt.show()"
   ]
  },
  {
   "cell_type": "markdown",
   "metadata": {},
   "source": [
    "The second widget is what I really had issues with. I did not understand the question very well and had to message the TA for some clarification on what binning meant in this case. I also used the resources under the question and began to work. At first my code worked, but it had an issue. I was using a textbox to gather the number of bins the user wanted, but it would update as soon as the user was typing. So if you were to erase the 5 I had in the text box to change the bins to 3, the code would error out until you entered 3. This did not sit well with me, so I attempted a slider. The issue with using interact(slider = 5) was that the slider could go to negative numbers, which would error the code out again. I researched online some more to understand widgets, and after some attempts to create buttons to make the code work, which failed, I used the website\n",
    "https://ipywidgets.readthedocs.io/en/latest/examples/Using%20Interact.html\n",
    "to learn exactly what I needed for widgets. I found out I can personalize the intslider by creating it inside the interact(), which I didn't know I could do. This made it so much easier and I created a IntSlider that could only go down to 1. The small issue is I set the bin cap to 50, because past that it becomes difficult to slide it accurately. This is my finished homework!"
   ]
  },
  {
   "cell_type": "code",
   "execution_count": null,
   "metadata": {},
   "outputs": [],
   "source": []
  }
 ],
 "metadata": {
  "kernelspec": {
   "display_name": "Python 3",
   "language": "python",
   "name": "python3"
  },
  "language_info": {
   "codemirror_mode": {
    "name": "ipython",
    "version": 3
   },
   "file_extension": ".py",
   "mimetype": "text/x-python",
   "name": "python",
   "nbconvert_exporter": "python",
   "pygments_lexer": "ipython3",
   "version": "3.8.5"
  }
 },
 "nbformat": 4,
 "nbformat_minor": 4
}
