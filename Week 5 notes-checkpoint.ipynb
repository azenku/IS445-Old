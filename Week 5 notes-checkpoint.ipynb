{
 "cells": [
  {
   "cell_type": "code",
   "execution_count": 1,
   "metadata": {},
   "outputs": [],
   "source": [
    "import ipywidgets\n",
    "\n",
    "import numpy as np\n",
    "import bqplot"
   ]
  },
  {
   "cell_type": "markdown",
   "metadata": {},
   "source": [
    "## Example of using bqplot with imperative (non-matplotlib-like interface)"
   ]
  },
  {
   "cell_type": "markdown",
   "metadata": {},
   "source": [
    "### step 1: getting data together"
   ]
  },
  {
   "cell_type": "code",
   "execution_count": 2,
   "metadata": {},
   "outputs": [
    {
     "data": {
      "text/plain": [
       "array([ 0,  1,  2,  3,  4,  5,  6,  7,  8,  9, 10, 11, 12, 13, 14, 15, 16,\n",
       "       17, 18, 19, 20, 21, 22, 23, 24, 25, 26, 27, 28, 29, 30, 31, 32, 33,\n",
       "       34, 35, 36, 37, 38, 39, 40, 41, 42, 43, 44, 45, 46, 47, 48, 49, 50,\n",
       "       51, 52, 53, 54, 55, 56, 57, 58, 59, 60, 61, 62, 63, 64, 65, 66, 67,\n",
       "       68, 69, 70, 71, 72, 73, 74, 75, 76, 77, 78, 79, 80, 81, 82, 83, 84,\n",
       "       85, 86, 87, 88, 89, 90, 91, 92, 93, 94, 95, 96, 97, 98, 99])"
      ]
     },
     "execution_count": 2,
     "metadata": {},
     "output_type": "execute_result"
    }
   ],
   "source": [
    "x = np.arange(100)\n",
    "x"
   ]
  },
  {
   "cell_type": "code",
   "execution_count": 4,
   "metadata": {},
   "outputs": [
    {
     "data": {
      "text/plain": [
       "array([0.47747027, 0.9408856 , 0.95906074, 0.80449897, 0.75500062,\n",
       "       0.02708951, 0.50077558, 0.20269398, 0.46156075, 0.13604212,\n",
       "       0.30262874, 0.73729296, 0.17227027, 0.02009977, 0.63778979,\n",
       "       0.05824871, 0.55311283, 0.17073703, 0.47623653, 0.86300025,\n",
       "       0.7762313 , 0.56082987, 0.35058846, 0.3630049 , 0.2452129 ,\n",
       "       0.52007691, 0.95903728, 0.01983137, 0.04575607, 0.82269597,\n",
       "       0.96104611, 0.46195935, 0.96467898, 0.20374407, 0.40695459,\n",
       "       0.33699416, 0.16764224, 0.69900671, 0.13260071, 0.73154452,\n",
       "       0.21672372, 0.20067764, 0.77585905, 0.13475298, 0.20095949,\n",
       "       0.65182821, 0.92237207, 0.57071312, 0.57191705, 0.77302071,\n",
       "       0.8036949 , 0.6976047 , 0.44227087, 0.0214371 , 0.80226459,\n",
       "       0.98406318, 0.38322175, 0.73134452, 0.74876449, 0.03489864,\n",
       "       0.32602058, 0.43937   , 0.96957962, 0.71356378, 0.13661985,\n",
       "       0.36035599, 0.77715372, 0.0201393 , 0.40451427, 0.7589112 ,\n",
       "       0.68738382, 0.54384494, 0.36478597, 0.40280772, 0.7167792 ,\n",
       "       0.41036635, 0.34375851, 0.61100778, 0.33440386, 0.1374067 ,\n",
       "       0.52545365, 0.65445594, 0.04150875, 0.22676015, 0.52253876,\n",
       "       0.68129781, 0.29345723, 0.02205455, 0.94349721, 0.26559555,\n",
       "       0.41409353, 0.16621107, 0.44744738, 0.70824703, 0.83753622,\n",
       "       0.17189448, 0.95964531, 0.34794517, 0.3698776 , 0.38352459])"
      ]
     },
     "execution_count": 4,
     "metadata": {},
     "output_type": "execute_result"
    }
   ],
   "source": [
    "y = np.random.random(100)\n",
    "y"
   ]
  },
  {
   "cell_type": "markdown",
   "metadata": {},
   "source": [
    "**step 2**: scales-- linear in this case (mapping the data to a visual repersentation/encoding) encoding in this case will be distance along x/y axis"
   ]
  },
  {
   "cell_type": "code",
   "execution_count": 5,
   "metadata": {},
   "outputs": [],
   "source": [
    "x_sc = bqplot.LinearScale()\n",
    "y_sc = bqplot.LinearScale()\n"
   ]
  },
  {
   "cell_type": "code",
   "execution_count": 6,
   "metadata": {},
   "outputs": [
    {
     "data": {
      "text/plain": [
       "LinearScale()"
      ]
     },
     "execution_count": 6,
     "metadata": {},
     "output_type": "execute_result"
    }
   ],
   "source": [
    "x_sc"
   ]
  },
  {
   "cell_type": "markdown",
   "metadata": {},
   "source": [
    "**step 3** Axis (could be marks)"
   ]
  },
  {
   "cell_type": "code",
   "execution_count": 9,
   "metadata": {},
   "outputs": [],
   "source": [
    "ax_x = bqplot.Axis(scale = x_sc, label = 'Xvalue')\n",
    "ax_y = bqplot.Axis(scale = y_sc, label = 'Yvalue', orientation = 'vertical')"
   ]
  },
  {
   "cell_type": "code",
   "execution_count": 8,
   "metadata": {},
   "outputs": [],
   "source": [
    "bqplot.Axis?"
   ]
  },
  {
   "cell_type": "markdown",
   "metadata": {},
   "source": [
    "**Step 4**: Marks (in our case, a line mark to make a line plot)"
   ]
  },
  {
   "cell_type": "code",
   "execution_count": 11,
   "metadata": {},
   "outputs": [],
   "source": [
    "lines= bqplot.Lines(x=x,y=y,scales={'x':x_sc, 'y':y_sc})"
   ]
  },
  {
   "cell_type": "code",
   "execution_count": 13,
   "metadata": {},
   "outputs": [
    {
     "data": {
      "text/plain": [
       "Lines(colors=['#1f77b4', '#ff7f0e', '#2ca02c', '#d62728', '#9467bd', '#8c564b', '#e377c2', '#7f7f7f', '#bcbd22', '#17becf'], interactions={'hover': 'tooltip'}, scales={'x': LinearScale(), 'y': LinearScale()}, scales_metadata={'x': {'orientation': 'horizontal', 'dimension': 'x'}, 'y': {'orientation': 'vertical', 'dimension': 'y'}, 'color': {'dimension': 'color'}}, tooltip_style={'opacity': 0.9}, x=array([ 0,  1,  2,  3,  4,  5,  6,  7,  8,  9, 10, 11, 12, 13, 14, 15, 16,\n",
       "       17, 18, 19, 20, 21, 22, 23, 24, 25, 26, 27, 28, 29, 30, 31, 32, 33,\n",
       "       34, 35, 36, 37, 38, 39, 40, 41, 42, 43, 44, 45, 46, 47, 48, 49, 50,\n",
       "       51, 52, 53, 54, 55, 56, 57, 58, 59, 60, 61, 62, 63, 64, 65, 66, 67,\n",
       "       68, 69, 70, 71, 72, 73, 74, 75, 76, 77, 78, 79, 80, 81, 82, 83, 84,\n",
       "       85, 86, 87, 88, 89, 90, 91, 92, 93, 94, 95, 96, 97, 98, 99]), y=array([0.47747027, 0.9408856 , 0.95906074, 0.80449897, 0.75500062,\n",
       "       0.02708951, 0.50077558, 0.20269398, 0.46156075, 0.13604212,\n",
       "       0.30262874, 0.73729296, 0.17227027, 0.02009977, 0.63778979,\n",
       "       0.05824871, 0.55311283, 0.17073703, 0.47623653, 0.86300025,\n",
       "       0.7762313 , 0.56082987, 0.35058846, 0.3630049 , 0.2452129 ,\n",
       "       0.52007691, 0.95903728, 0.01983137, 0.04575607, 0.82269597,\n",
       "       0.96104611, 0.46195935, 0.96467898, 0.20374407, 0.40695459,\n",
       "       0.33699416, 0.16764224, 0.69900671, 0.13260071, 0.73154452,\n",
       "       0.21672372, 0.20067764, 0.77585905, 0.13475298, 0.20095949,\n",
       "       0.65182821, 0.92237207, 0.57071312, 0.57191705, 0.77302071,\n",
       "       0.8036949 , 0.6976047 , 0.44227087, 0.0214371 , 0.80226459,\n",
       "       0.98406318, 0.38322175, 0.73134452, 0.74876449, 0.03489864,\n",
       "       0.32602058, 0.43937   , 0.96957962, 0.71356378, 0.13661985,\n",
       "       0.36035599, 0.77715372, 0.0201393 , 0.40451427, 0.7589112 ,\n",
       "       0.68738382, 0.54384494, 0.36478597, 0.40280772, 0.7167792 ,\n",
       "       0.41036635, 0.34375851, 0.61100778, 0.33440386, 0.1374067 ,\n",
       "       0.52545365, 0.65445594, 0.04150875, 0.22676015, 0.52253876,\n",
       "       0.68129781, 0.29345723, 0.02205455, 0.94349721, 0.26559555,\n",
       "       0.41409353, 0.16621107, 0.44744738, 0.70824703, 0.83753622,\n",
       "       0.17189448, 0.95964531, 0.34794517, 0.3698776 , 0.38352459]))"
      ]
     },
     "execution_count": 13,
     "metadata": {},
     "output_type": "execute_result"
    }
   ],
   "source": [
    "#lines"
   ]
  },
  {
   "cell_type": "markdown",
   "metadata": {},
   "source": [
    "*sometimes here would be interactions, but not yet!"
   ]
  },
  {
   "cell_type": "markdown",
   "metadata": {},
   "source": [
    "**Finally**: all together as a figure"
   ]
  },
  {
   "cell_type": "code",
   "execution_count": 14,
   "metadata": {},
   "outputs": [],
   "source": [
    "fig = bqplot.Figure(marks = [lines], axes = [ax_x,ax_y])"
   ]
  },
  {
   "cell_type": "code",
   "execution_count": 15,
   "metadata": {},
   "outputs": [
    {
     "data": {
      "application/vnd.jupyter.widget-view+json": {
       "model_id": "3425e819a0f547efb99d648185481544",
       "version_major": 2,
       "version_minor": 0
      },
      "text/plain": [
       "Figure(axes=[Axis(label='Xvalue', scale=LinearScale(), side='bottom'), Axis(label='Yvalue', orientation='verti…"
      ]
     },
     "metadata": {},
     "output_type": "display_data"
    }
   ],
   "source": [
    "fig\n",
    "#display(fig)"
   ]
  },
  {
   "cell_type": "markdown",
   "metadata": {},
   "source": [
    "lets add in some interactivity using 'bqplot.interacts'"
   ]
  },
  {
   "cell_type": "code",
   "execution_count": 17,
   "metadata": {},
   "outputs": [],
   "source": [
    "pz = bqplot.interacts.PanZoom(scales={'x':[x_sc],'y':[y_sc]})"
   ]
  },
  {
   "cell_type": "code",
   "execution_count": 18,
   "metadata": {},
   "outputs": [
    {
     "data": {
      "text/plain": [
       "PanZoom(scales={'x': [LinearScale()], 'y': [LinearScale()]})"
      ]
     },
     "execution_count": 18,
     "metadata": {},
     "output_type": "execute_result"
    }
   ],
   "source": [
    "pz"
   ]
  },
  {
   "cell_type": "markdown",
   "metadata": {},
   "source": [
    "rebuild with interactivity"
   ]
  },
  {
   "cell_type": "code",
   "execution_count": 19,
   "metadata": {},
   "outputs": [],
   "source": [
    "fig = bqplot.Figure(marks=[lines],axes = [ax_x,ax_y], interaction = pz)"
   ]
  },
  {
   "cell_type": "code",
   "execution_count": 20,
   "metadata": {},
   "outputs": [
    {
     "data": {
      "application/vnd.jupyter.widget-view+json": {
       "model_id": "b48b98034c944042b810ae1bc0b57842",
       "version_major": 2,
       "version_minor": 0
      },
      "text/plain": [
       "Figure(axes=[Axis(label='Xvalue', scale=LinearScale(), side='bottom'), Axis(label='Yvalue', orientation='verti…"
      ]
     },
     "metadata": {},
     "output_type": "display_data"
    }
   ],
   "source": [
    "fig"
   ]
  },
  {
   "cell_type": "markdown",
   "metadata": {},
   "source": [
    "## try another: random scatter plot"
   ]
  },
  {
   "cell_type": "code",
   "execution_count": 21,
   "metadata": {},
   "outputs": [],
   "source": [
    "#1. Data\n",
    "x = np.random.random(100) #random x\n",
    "y = np.random.random(100)"
   ]
  },
  {
   "cell_type": "code",
   "execution_count": 23,
   "metadata": {},
   "outputs": [],
   "source": [
    "#x,y"
   ]
  },
  {
   "cell_type": "code",
   "execution_count": 24,
   "metadata": {},
   "outputs": [],
   "source": [
    "#2. scales\n",
    "x_sc = bqplot.LinearScale()\n",
    "y_sc = bqplot.LinearScale()\n",
    "\n",
    "#3. axis\n",
    "x_ax = bqplot.Axis(scale = x_sc, label = 'Random X')\n",
    "y_ax = bqplot.Axis(scale = y_sc, label = 'Random Y', orientation = 'vertical')\n"
   ]
  },
  {
   "cell_type": "code",
   "execution_count": 26,
   "metadata": {},
   "outputs": [],
   "source": [
    "#4. marks\n",
    "scatters = bqplot.Scatter(x=x, y=y, scales = {'x':x_sc,'y':y_sc})"
   ]
  },
  {
   "cell_type": "markdown",
   "metadata": {},
   "source": [
    "Interactions later"
   ]
  },
  {
   "cell_type": "code",
   "execution_count": 28,
   "metadata": {},
   "outputs": [],
   "source": [
    "selector = bqplot.interacts.FastIntervalSelector(scale=x_sc,marks= [scatters])"
   ]
  },
  {
   "cell_type": "code",
   "execution_count": 29,
   "metadata": {
    "scrolled": true
   },
   "outputs": [
    {
     "data": {
      "application/vnd.jupyter.widget-view+json": {
       "model_id": "e02236641c4043198687cfc5693a1293",
       "version_major": 2,
       "version_minor": 0
      },
      "text/plain": [
       "Figure(axes=[Axis(label='Random X', scale=LinearScale(), side='bottom'), Axis(label='Random Y', orientation='v…"
      ]
     },
     "metadata": {},
     "output_type": "display_data"
    }
   ],
   "source": [
    "fig = bqplot.Figure(marks=[scatters], axes= [x_ax,y_ax], interaction = selector)\n",
    "fig"
   ]
  },
  {
   "cell_type": "code",
   "execution_count": 30,
   "metadata": {},
   "outputs": [
    {
     "data": {
      "text/plain": [
       "['_model_module',\n",
       " '_model_module_version',\n",
       " '_model_name',\n",
       " '_view_count',\n",
       " '_view_module',\n",
       " '_view_module_version',\n",
       " '_view_name',\n",
       " 'color',\n",
       " 'marks',\n",
       " 'scale',\n",
       " 'selected',\n",
       " 'size']"
      ]
     },
     "execution_count": 30,
     "metadata": {},
     "output_type": "execute_result"
    }
   ],
   "source": [
    "selector.keys"
   ]
  },
  {
   "cell_type": "code",
   "execution_count": 33,
   "metadata": {},
   "outputs": [],
   "source": [
    "#selector.marks"
   ]
  },
  {
   "cell_type": "code",
   "execution_count": 34,
   "metadata": {},
   "outputs": [],
   "source": [
    "#scatters"
   ]
  },
  {
   "cell_type": "markdown",
   "metadata": {},
   "source": [
    "the selector marks is the same as our scatters marks\n"
   ]
  },
  {
   "cell_type": "code",
   "execution_count": 35,
   "metadata": {},
   "outputs": [
    {
     "data": {
      "text/plain": [
       "array([0.45849586, 0.99911277])"
      ]
     },
     "execution_count": 35,
     "metadata": {},
     "output_type": "execute_result"
    }
   ],
   "source": [
    "selector.selected"
   ]
  },
  {
   "cell_type": "markdown",
   "metadata": {},
   "source": [
    "looking forward-- we can maybe use this range to subset our data and do something else with the selected subset\n",
    "(more on this later)"
   ]
  },
  {
   "cell_type": "code",
   "execution_count": 36,
   "metadata": {},
   "outputs": [
    {
     "data": {
      "text/plain": [
       "['_model_module',\n",
       " '_model_module_version',\n",
       " '_model_name',\n",
       " '_view_count',\n",
       " '_view_module',\n",
       " '_view_module_version',\n",
       " '_view_name',\n",
       " 'apply_clip',\n",
       " 'color',\n",
       " 'colors',\n",
       " 'default_size',\n",
       " 'default_skew',\n",
       " 'display_legend',\n",
       " 'display_names',\n",
       " 'drag_color',\n",
       " 'drag_size',\n",
       " 'enable_delete',\n",
       " 'enable_hover',\n",
       " 'enable_move',\n",
       " 'fill',\n",
       " 'hovered_point',\n",
       " 'hovered_style',\n",
       " 'interactions',\n",
       " 'label_display_horizontal_offset',\n",
       " 'label_display_vertical_offset',\n",
       " 'labels',\n",
       " 'marker',\n",
       " 'names',\n",
       " 'names_unique',\n",
       " 'opacities',\n",
       " 'opacity',\n",
       " 'preserve_domain',\n",
       " 'restrict_x',\n",
       " 'restrict_y',\n",
       " 'rotation',\n",
       " 'scales',\n",
       " 'scales_metadata',\n",
       " 'selected',\n",
       " 'selected_style',\n",
       " 'size',\n",
       " 'skew',\n",
       " 'stroke',\n",
       " 'stroke_width',\n",
       " 'tooltip',\n",
       " 'tooltip_location',\n",
       " 'tooltip_style',\n",
       " 'unhovered_style',\n",
       " 'unselected_style',\n",
       " 'update_on_move',\n",
       " 'visible',\n",
       " 'x',\n",
       " 'y']"
      ]
     },
     "execution_count": 36,
     "metadata": {},
     "output_type": "execute_result"
    }
   ],
   "source": [
    "scatters.keys"
   ]
  },
  {
   "cell_type": "markdown",
   "metadata": {},
   "source": [
    "Highlighting selected and unselected objects in our plot:\n"
   ]
  },
  {
   "cell_type": "code",
   "execution_count": 37,
   "metadata": {},
   "outputs": [],
   "source": [
    "scatters.unselected_style = {'opacity':0.8} #makes unslected see through"
   ]
  },
  {
   "cell_type": "code",
   "execution_count": 42,
   "metadata": {},
   "outputs": [],
   "source": [
    "scatters.selected_style= {'fill': 'red', 'stroke':'yellow'} #fills dots with red, makes stroke around yellow"
   ]
  },
  {
   "cell_type": "code",
   "execution_count": 43,
   "metadata": {},
   "outputs": [],
   "source": [
    "fig = bqplot.Figure(marks=[scatters], axes= [ax_x,ax_y], interaction = selector)"
   ]
  },
  {
   "cell_type": "code",
   "execution_count": 44,
   "metadata": {},
   "outputs": [
    {
     "data": {
      "application/vnd.jupyter.widget-view+json": {
       "model_id": "f06450d009f44a3fb65e689c61dcdfa5",
       "version_major": 2,
       "version_minor": 0
      },
      "text/plain": [
       "Figure(axes=[Axis(label='Xvalue', scale=LinearScale(max=122.65921444243892, min=-47.22546491386212), side='bot…"
      ]
     },
     "metadata": {},
     "output_type": "display_data"
    }
   ],
   "source": [
    "fig"
   ]
  },
  {
   "cell_type": "markdown",
   "metadata": {},
   "source": [
    "## random heat map in 2D"
   ]
  },
  {
   "cell_type": "code",
   "execution_count": 45,
   "metadata": {},
   "outputs": [],
   "source": [
    "# 1 data\n",
    "data = np.random.random((10,10))\n",
    "#10,10 data"
   ]
  },
  {
   "cell_type": "code",
   "execution_count": 47,
   "metadata": {},
   "outputs": [],
   "source": [
    "#data"
   ]
  },
  {
   "cell_type": "code",
   "execution_count": 49,
   "metadata": {},
   "outputs": [
    {
     "data": {
      "application/vnd.jupyter.widget-view+json": {
       "model_id": "45af7c271a93458d946c0c67a22bda76",
       "version_major": 2,
       "version_minor": 0
      },
      "text/plain": [
       "Figure(fig_margin={'top': 60, 'bottom': 60, 'left': 60, 'right': 60}, marks=[GridHeatMap(color=array([[0.46202…"
      ]
     },
     "metadata": {},
     "output_type": "display_data"
    }
   ],
   "source": [
    "#2 scales\n",
    "col_sc = bqplot.ColorScale()\n",
    "\n",
    "#3. axis-- skip for now\n",
    "\n",
    "#4. Mark\n",
    "heat_map = bqplot.GridHeatMap(color=data, scales = {'color':col_sc})\n",
    "\n",
    "#5. interactions, skip for now\n",
    "\n",
    "#figure\n",
    "fig = bqplot.Figure(marks = [heat_map])\n",
    "fig"
   ]
  },
  {
   "cell_type": "code",
   "execution_count": 56,
   "metadata": {},
   "outputs": [
    {
     "data": {
      "application/vnd.jupyter.widget-view+json": {
       "model_id": "51ab497454ac494994b9a6d15c10c6e2",
       "version_major": 2,
       "version_minor": 0
      },
      "text/plain": [
       "Figure(axes=[ColorAxis(orientation='vertical', scale=ColorScale(scheme='Blues'), side='right')], fig_margin={'…"
      ]
     },
     "metadata": {},
     "output_type": "display_data"
    }
   ],
   "source": [
    "#1.data, same as before\n",
    "\n",
    "#2 scales\n",
    "col_sc = bqplot.ColorScale(scheme = 'Blues')\n",
    "\n",
    "#3. axis-- color axis means colorbar\n",
    "c_ax = bqplot.ColorAxis(scale=col_sc, orientation = 'vertical', side = 'right')\n",
    "\n",
    "#4. Mark\n",
    "heat_map = bqplot.GridHeatMap(color=data, scales = {'color':col_sc})\n",
    "\n",
    "#5. interactions, skip for now\n",
    "\n",
    "#figure\n",
    "fig = bqplot.Figure(marks = [heat_map], axes = [c_ax])\n",
    "fig"
   ]
  },
  {
   "cell_type": "code",
   "execution_count": 58,
   "metadata": {},
   "outputs": [
    {
     "data": {
      "application/vnd.jupyter.widget-view+json": {
       "model_id": "c334d4dd7a924fd29a52f14776db5743",
       "version_major": 2,
       "version_minor": 0
      },
      "text/plain": [
       "Figure(axes=[ColorAxis(orientation='vertical', scale=ColorScale(scheme='Blues'), side='right'), Axis(orientati…"
      ]
     },
     "metadata": {},
     "output_type": "display_data"
    }
   ],
   "source": [
    "#1.data, same as before\n",
    "\n",
    "#2 scales\n",
    "#2.1 color scale\n",
    "col_sc = bqplot.ColorScale(scheme = 'Blues')\n",
    "#2.2 x/y scales\n",
    "x_sc = bqplot.OrdinalScale() #for catagorical data\n",
    "y_sc = bqplot.OrdinalScale()\n",
    "\n",
    "#3. axis-- color axis means colorbar\n",
    "c_ax = bqplot.ColorAxis(scale=col_sc, orientation = 'vertical', side = 'right')\n",
    "# 3.2 x/y axis\n",
    "x_ax = bqplot.Axis(scale=x_sc)\n",
    "y_ax = bqplot.Axis(scale=y_sc, orientation = 'vertical')\n",
    "\n",
    "#4. Mark\n",
    "heat_map = bqplot.GridHeatMap(color=data, scales = {'color':col_sc, 'row':y_sc, 'column':x_sc})\n",
    "\n",
    "#5. interactions, skip for now\n",
    "\n",
    "#figure\n",
    "fig = bqplot.Figure(marks = [heat_map], axes = [c_ax, y_ax, x_ax])\n",
    "fig"
   ]
  },
  {
   "cell_type": "code",
   "execution_count": 59,
   "metadata": {},
   "outputs": [
    {
     "data": {
      "application/vnd.jupyter.widget-view+json": {
       "model_id": "e738c890e95c45b6b388b51354cf2033",
       "version_major": 2,
       "version_minor": 0
      },
      "text/plain": [
       "Figure(axes=[ColorAxis(orientation='vertical', scale=ColorScale(scheme='Blues'), side='right'), Axis(orientati…"
      ]
     },
     "metadata": {},
     "output_type": "display_data"
    }
   ],
   "source": [
    "#1.data, same as before\n",
    "\n",
    "#2 scales\n",
    "#2.1 color scale\n",
    "col_sc = bqplot.ColorScale(scheme = 'Blues')\n",
    "#2.2 x/y scales\n",
    "x_sc = bqplot.OrdinalScale() #for catagorical data\n",
    "y_sc = bqplot.OrdinalScale()\n",
    "\n",
    "#3. axis-- color axis means colorbar\n",
    "c_ax = bqplot.ColorAxis(scale=col_sc, orientation = 'vertical', side = 'right')\n",
    "# 3.2 x/y axis\n",
    "x_ax = bqplot.Axis(scale=x_sc)\n",
    "y_ax = bqplot.Axis(scale=y_sc, orientation = 'vertical')\n",
    "\n",
    "#4. Mark\n",
    "heat_map = bqplot.GridHeatMap(color=data, scales = {'color':col_sc, 'row':y_sc, 'column':x_sc},\n",
    "                             interactions = {'click':'select'}, #clicking and slecting\n",
    "                             anchor_style = {'fill': 'red'}, #highlight slection red \n",
    "                             selected_style = {'opacity':1.0},\n",
    "                             unselected_style = {'opacity': 0.8})\n",
    "\n",
    "#5. interactions, add to the mark call above\n",
    "\n",
    "#figure\n",
    "fig = bqplot.Figure(marks = [heat_map], axes = [c_ax, y_ax, x_ax])\n",
    "fig"
   ]
  },
  {
   "cell_type": "code",
   "execution_count": 62,
   "metadata": {},
   "outputs": [
    {
     "data": {
      "text/plain": [
       "array([[3, 5]])"
      ]
     },
     "execution_count": 62,
     "metadata": {},
     "output_type": "execute_result"
    }
   ],
   "source": [
    "heat_map.selected #the trait of the x/y indecies gets updated"
   ]
  },
  {
   "cell_type": "code",
   "execution_count": 63,
   "metadata": {},
   "outputs": [],
   "source": [
    "def on_selected(change):\n",
    "    print(change)"
   ]
  },
  {
   "cell_type": "code",
   "execution_count": 64,
   "metadata": {},
   "outputs": [
    {
     "data": {
      "application/vnd.jupyter.widget-view+json": {
       "model_id": "3efe032a93d54e82b990f54803519eef",
       "version_major": 2,
       "version_minor": 0
      },
      "text/plain": [
       "Figure(axes=[ColorAxis(orientation='vertical', scale=ColorScale(scheme='Blues'), side='right'), Axis(orientati…"
      ]
     },
     "metadata": {},
     "output_type": "display_data"
    },
    {
     "name": "stdout",
     "output_type": "stream",
     "text": [
      "{'name': 'selected', 'old': None, 'new': array([[5, 4]]), 'owner': GridHeatMap(anchor_style={'fill': 'red'}, color=array([[0.46202384, 0.21148776, 0.61413852, 0.37986315, 0.58316113,\n",
      "        0.12007045, 0.53462743, 0.04930268, 0.39885332, 0.67223598],\n",
      "       [0.09194663, 0.6707177 , 0.40996264, 0.43715609, 0.35772745,\n",
      "        0.34296713, 0.70233861, 0.60870749, 0.58090154, 0.63318421],\n",
      "       [0.20670363, 0.9086553 , 0.03588925, 0.50328146, 0.58148955,\n",
      "        0.38912681, 0.08707008, 0.89189922, 0.12663512, 0.81976139],\n",
      "       [0.715916  , 0.87755164, 0.69332492, 0.38689636, 0.07115598,\n",
      "        0.78618086, 0.2437011 , 0.70398395, 0.6134446 , 0.06138747],\n",
      "       [0.44764157, 0.94524697, 0.18532475, 0.5404826 , 0.43508113,\n",
      "        0.41340523, 0.81270818, 0.40103975, 0.06516068, 0.54839385],\n",
      "       [0.32102755, 0.85738954, 0.33917714, 0.20991022, 0.54132767,\n",
      "        0.71597522, 0.24698159, 0.76968537, 0.25718658, 0.12485011],\n",
      "       [0.59289855, 0.48231289, 0.29036804, 0.01052785, 0.54266495,\n",
      "        0.26478966, 0.09851219, 0.52214921, 0.61157653, 0.57309571],\n",
      "       [0.00318765, 0.92181398, 0.10189817, 0.73824524, 0.86235163,\n",
      "        0.4966894 , 0.20950101, 0.3469913 , 0.08176305, 0.30645906],\n",
      "       [0.16428429, 0.77560925, 0.1612737 , 0.96085293, 0.07222924,\n",
      "        0.69094665, 0.14641416, 0.92244045, 0.46803913, 0.65217699],\n",
      "       [0.36337158, 0.49462552, 0.72932137, 0.73768236, 0.37845443,\n",
      "        0.00732471, 0.45343073, 0.32961285, 0.36790306, 0.20254404]]), interactions={'click': 'select'}, scales={'color': ColorScale(scheme='Blues'), 'row': OrdinalScale(), 'column': OrdinalScale()}, scales_metadata={'row': {'orientation': 'vertical', 'dimension': 'y'}, 'column': {'orientation': 'horizontal', 'dimension': 'x'}, 'color': {'dimension': 'color'}}, selected=array([[5, 4]]), selected_style={'opacity': 1.0}, tooltip_style={'opacity': 0.9}, unselected_style={'opacity': 0.8}), 'type': 'change'}\n",
      "{'name': 'selected', 'old': array([[5, 4]]), 'new': array([[5, 1]]), 'owner': GridHeatMap(anchor_style={'fill': 'red'}, color=array([[0.46202384, 0.21148776, 0.61413852, 0.37986315, 0.58316113,\n",
      "        0.12007045, 0.53462743, 0.04930268, 0.39885332, 0.67223598],\n",
      "       [0.09194663, 0.6707177 , 0.40996264, 0.43715609, 0.35772745,\n",
      "        0.34296713, 0.70233861, 0.60870749, 0.58090154, 0.63318421],\n",
      "       [0.20670363, 0.9086553 , 0.03588925, 0.50328146, 0.58148955,\n",
      "        0.38912681, 0.08707008, 0.89189922, 0.12663512, 0.81976139],\n",
      "       [0.715916  , 0.87755164, 0.69332492, 0.38689636, 0.07115598,\n",
      "        0.78618086, 0.2437011 , 0.70398395, 0.6134446 , 0.06138747],\n",
      "       [0.44764157, 0.94524697, 0.18532475, 0.5404826 , 0.43508113,\n",
      "        0.41340523, 0.81270818, 0.40103975, 0.06516068, 0.54839385],\n",
      "       [0.32102755, 0.85738954, 0.33917714, 0.20991022, 0.54132767,\n",
      "        0.71597522, 0.24698159, 0.76968537, 0.25718658, 0.12485011],\n",
      "       [0.59289855, 0.48231289, 0.29036804, 0.01052785, 0.54266495,\n",
      "        0.26478966, 0.09851219, 0.52214921, 0.61157653, 0.57309571],\n",
      "       [0.00318765, 0.92181398, 0.10189817, 0.73824524, 0.86235163,\n",
      "        0.4966894 , 0.20950101, 0.3469913 , 0.08176305, 0.30645906],\n",
      "       [0.16428429, 0.77560925, 0.1612737 , 0.96085293, 0.07222924,\n",
      "        0.69094665, 0.14641416, 0.92244045, 0.46803913, 0.65217699],\n",
      "       [0.36337158, 0.49462552, 0.72932137, 0.73768236, 0.37845443,\n",
      "        0.00732471, 0.45343073, 0.32961285, 0.36790306, 0.20254404]]), interactions={'click': 'select'}, scales={'color': ColorScale(scheme='Blues'), 'row': OrdinalScale(), 'column': OrdinalScale()}, scales_metadata={'row': {'orientation': 'vertical', 'dimension': 'y'}, 'column': {'orientation': 'horizontal', 'dimension': 'x'}, 'color': {'dimension': 'color'}}, selected=array([[5, 1]]), selected_style={'opacity': 1.0}, tooltip_style={'opacity': 0.9}, unselected_style={'opacity': 0.8}), 'type': 'change'}\n"
     ]
    }
   ],
   "source": [
    "#1.data, same as before\n",
    "\n",
    "#2 scales\n",
    "#2.1 color scale\n",
    "col_sc = bqplot.ColorScale(scheme = 'Blues')\n",
    "#2.2 x/y scales\n",
    "x_sc = bqplot.OrdinalScale() #for catagorical data\n",
    "y_sc = bqplot.OrdinalScale()\n",
    "\n",
    "#3. axis-- color axis means colorbar\n",
    "c_ax = bqplot.ColorAxis(scale=col_sc, orientation = 'vertical', side = 'right')\n",
    "# 3.2 x/y axis\n",
    "x_ax = bqplot.Axis(scale=x_sc)\n",
    "y_ax = bqplot.Axis(scale=y_sc, orientation = 'vertical')\n",
    "\n",
    "#4. Mark\n",
    "heat_map = bqplot.GridHeatMap(color=data, scales = {'color':col_sc, 'row':y_sc, 'column':x_sc},\n",
    "                             interactions = {'click':'select'}, #clicking and slecting\n",
    "                             anchor_style = {'fill': 'red'}, #highlight slection red \n",
    "                             selected_style = {'opacity':1.0},\n",
    "                             unselected_style = {'opacity': 0.8})\n",
    "\n",
    "#5. interactions, add to the mark call above, and then adding an observation function\n",
    "heat_map.observe(on_selected, 'selected')\n",
    "#figure\n",
    "fig = bqplot.Figure(marks = [heat_map], axes = [c_ax, y_ax, x_ax])\n",
    "fig"
   ]
  },
  {
   "cell_type": "code",
   "execution_count": 65,
   "metadata": {},
   "outputs": [],
   "source": [
    "def on_selected(change):\n",
    "    print(change['owner'])"
   ]
  },
  {
   "cell_type": "code",
   "execution_count": 66,
   "metadata": {},
   "outputs": [],
   "source": [
    "def on_selected(change):\n",
    "    print(change['owner'].selected)"
   ]
  },
  {
   "cell_type": "code",
   "execution_count": 68,
   "metadata": {},
   "outputs": [
    {
     "data": {
      "application/vnd.jupyter.widget-view+json": {
       "model_id": "3da803bef44c4393b49533c7341ab240",
       "version_major": 2,
       "version_minor": 0
      },
      "text/plain": [
       "Figure(axes=[ColorAxis(orientation='vertical', scale=ColorScale(scheme='Blues'), side='right'), Axis(orientati…"
      ]
     },
     "metadata": {},
     "output_type": "display_data"
    },
    {
     "name": "stdout",
     "output_type": "stream",
     "text": [
      "[[7 2]]\n",
      "[[4 5]]\n",
      "[[7 3]]\n",
      "[[4 1]]\n"
     ]
    }
   ],
   "source": [
    "#1.data, same as before\n",
    "\n",
    "#2 scales\n",
    "#2.1 color scale\n",
    "col_sc = bqplot.ColorScale(scheme = 'Blues')\n",
    "#2.2 x/y scales\n",
    "x_sc = bqplot.OrdinalScale() #for catagorical data\n",
    "y_sc = bqplot.OrdinalScale()\n",
    "\n",
    "#3. axis-- color axis means colorbar\n",
    "c_ax = bqplot.ColorAxis(scale=col_sc, orientation = 'vertical', side = 'right')\n",
    "# 3.2 x/y axis\n",
    "x_ax = bqplot.Axis(scale=x_sc)\n",
    "y_ax = bqplot.Axis(scale=y_sc, orientation = 'vertical')\n",
    "\n",
    "#4. Mark\n",
    "heat_map = bqplot.GridHeatMap(color=data, scales = {'color':col_sc, 'row':y_sc, 'column':x_sc},\n",
    "                             interactions = {'click':'select'}, #clicking and slecting\n",
    "                             anchor_style = {'fill': 'red'}, #highlight slection red \n",
    "                             selected_style = {'opacity':1.0},\n",
    "                             unselected_style = {'opacity': 0.8})\n",
    "\n",
    "#5. interactions, add to the mark call above, and then adding an observation function\n",
    "heat_map.observe(on_selected, 'selected')\n",
    "#figure\n",
    "fig = bqplot.Figure(marks = [heat_map], axes = [c_ax, y_ax, x_ax])\n",
    "fig"
   ]
  },
  {
   "cell_type": "code",
   "execution_count": 71,
   "metadata": {},
   "outputs": [],
   "source": [
    "#we only want to enable the selection of 1 cell (a choice)\n",
    "def on_selected(change):\n",
    "    if len(change['owner'].selected)==1:\n",
    "        print(change['owner'].selected)"
   ]
  },
  {
   "cell_type": "code",
   "execution_count": 72,
   "metadata": {},
   "outputs": [
    {
     "data": {
      "application/vnd.jupyter.widget-view+json": {
       "model_id": "65d6eb18de6144d1a4e16953bef3ab7b",
       "version_major": 2,
       "version_minor": 0
      },
      "text/plain": [
       "Figure(axes=[ColorAxis(orientation='vertical', scale=ColorScale(scheme='Blues'), side='right'), Axis(orientati…"
      ]
     },
     "metadata": {},
     "output_type": "display_data"
    },
    {
     "name": "stdout",
     "output_type": "stream",
     "text": [
      "[[2 4]]\n",
      "[[5 2]]\n",
      "[[2 6]]\n",
      "[[5 3]]\n"
     ]
    }
   ],
   "source": [
    "#1.data, same as before\n",
    "\n",
    "#2 scales\n",
    "#2.1 color scale\n",
    "col_sc = bqplot.ColorScale(scheme = 'Blues')\n",
    "#2.2 x/y scales\n",
    "x_sc = bqplot.OrdinalScale() #for catagorical data\n",
    "y_sc = bqplot.OrdinalScale()\n",
    "\n",
    "#3. axis-- color axis means colorbar\n",
    "c_ax = bqplot.ColorAxis(scale=col_sc, orientation = 'vertical', side = 'right')\n",
    "# 3.2 x/y axis\n",
    "x_ax = bqplot.Axis(scale=x_sc)\n",
    "y_ax = bqplot.Axis(scale=y_sc, orientation = 'vertical')\n",
    "\n",
    "#4. Mark\n",
    "heat_map = bqplot.GridHeatMap(color=data, scales = {'color':col_sc, 'row':y_sc, 'column':x_sc},\n",
    "                             interactions = {'click':'select'}, #clicking and slecting\n",
    "                             anchor_style = {'fill': 'red'}, #highlight slection red \n",
    "                             selected_style = {'opacity':1.0},\n",
    "                             unselected_style = {'opacity': 0.8})\n",
    "\n",
    "#5. interactions, add to the mark call above, and then adding an observation function\n",
    "heat_map.observe(on_selected, 'selected')\n",
    "#figure\n",
    "fig = bqplot.Figure(marks = [heat_map], axes = [c_ax, y_ax, x_ax])\n",
    "fig"
   ]
  },
  {
   "cell_type": "code",
   "execution_count": 73,
   "metadata": {},
   "outputs": [],
   "source": [
    "# use ipywidgets to make a label that will (eventually!) be updated with the data values of the selection\n",
    "mySelectedLabel = ipywidgets.Label()\n",
    "mySelectedLabel.value = \"STUFF\""
   ]
  },
  {
   "cell_type": "code",
   "execution_count": 74,
   "metadata": {},
   "outputs": [
    {
     "data": {
      "application/vnd.jupyter.widget-view+json": {
       "model_id": "54718cd3c67b497280132fd75c6be2f5",
       "version_major": 2,
       "version_minor": 0
      },
      "text/plain": [
       "Label(value='STUFF')"
      ]
     },
     "metadata": {},
     "output_type": "display_data"
    }
   ],
   "source": [
    "mySelectedLabel"
   ]
  },
  {
   "cell_type": "code",
   "execution_count": 76,
   "metadata": {},
   "outputs": [
    {
     "data": {
      "application/vnd.jupyter.widget-view+json": {
       "model_id": "1647a84188234a2683a7ad4fef7dc199",
       "version_major": 2,
       "version_minor": 0
      },
      "text/plain": [
       "VBox(children=(Label(value='STUFF'), Figure(axes=[ColorAxis(orientation='vertical', scale=ColorScale(scheme='B…"
      ]
     },
     "metadata": {},
     "output_type": "display_data"
    }
   ],
   "source": [
    "#1.data, same as before\n",
    "\n",
    "#2 scales\n",
    "#2.1 color scale\n",
    "col_sc = bqplot.ColorScale(scheme = 'Blues')\n",
    "#2.2 x/y scales\n",
    "x_sc = bqplot.OrdinalScale() #for catagorical data\n",
    "y_sc = bqplot.OrdinalScale()\n",
    "\n",
    "#3. axis-- color axis means colorbar\n",
    "c_ax = bqplot.ColorAxis(scale=col_sc, orientation = 'vertical', side = 'right')\n",
    "# 3.2 x/y axis\n",
    "x_ax = bqplot.Axis(scale=x_sc)\n",
    "y_ax = bqplot.Axis(scale=y_sc, orientation = 'vertical')\n",
    "\n",
    "#4. Mark\n",
    "heat_map = bqplot.GridHeatMap(color=data, scales = {'color':col_sc, 'row':y_sc, 'column':x_sc},\n",
    "                             interactions = {'click':'select'}, #clicking and slecting\n",
    "                             anchor_style = {'fill': 'red'}, #highlight slection red \n",
    "                             selected_style = {'opacity':1.0},\n",
    "                             unselected_style = {'opacity': 0.8})\n",
    "\n",
    "#5. interactions, add to the mark call above, and then adding an observation function\n",
    "heat_map.observe(on_selected, 'selected')\n",
    "#figure\n",
    "fig = bqplot.Figure(marks = [heat_map], axes = [c_ax, y_ax, x_ax])\n",
    "#fig\n",
    "\n",
    "#put the label widget on top of this figure object\n",
    "\n",
    "myDashboard = ipywidgets.VBox([mySelectedLabel,fig])\n",
    "myDashboard"
   ]
  },
  {
   "cell_type": "code",
   "execution_count": 79,
   "metadata": {},
   "outputs": [],
   "source": [
    "#we only want to enable the selection of 1 cell (a choice)\n",
    "def on_selected(change):\n",
    "    if len(change['owner'].selected)==1:\n",
    "        #print(change['owner'].selected)\n",
    "        i,j = change['owner'].selected[0]\n",
    "        v = data[i,j] #grabbing the data value at the i,jth bin of our 2d array\n",
    "        mySelectedLabel.value = 'Data Value = ' + str(v)"
   ]
  },
  {
   "cell_type": "code",
   "execution_count": 80,
   "metadata": {},
   "outputs": [
    {
     "data": {
      "application/vnd.jupyter.widget-view+json": {
       "model_id": "6b7a8138c8ab45a6b391c19e98d3b884",
       "version_major": 2,
       "version_minor": 0
      },
      "text/plain": [
       "VBox(children=(Label(value='STUFF'), Figure(axes=[ColorAxis(orientation='vertical', scale=ColorScale(scheme='B…"
      ]
     },
     "metadata": {},
     "output_type": "display_data"
    }
   ],
   "source": [
    "#1.data, same as before\n",
    "\n",
    "#2 scales\n",
    "#2.1 color scale\n",
    "col_sc = bqplot.ColorScale(scheme = 'Blues')\n",
    "#2.2 x/y scales\n",
    "x_sc = bqplot.OrdinalScale() #for catagorical data\n",
    "y_sc = bqplot.OrdinalScale()\n",
    "\n",
    "#3. axis-- color axis means colorbar\n",
    "c_ax = bqplot.ColorAxis(scale=col_sc, orientation = 'vertical', side = 'right')\n",
    "# 3.2 x/y axis\n",
    "x_ax = bqplot.Axis(scale=x_sc)\n",
    "y_ax = bqplot.Axis(scale=y_sc, orientation = 'vertical')\n",
    "\n",
    "#4. Mark\n",
    "heat_map = bqplot.GridHeatMap(color=data, scales = {'color':col_sc, 'row':y_sc, 'column':x_sc},\n",
    "                             interactions = {'click':'select'}, #clicking and slecting\n",
    "                             anchor_style = {'fill': 'red'}, #highlight slection red \n",
    "                             selected_style = {'opacity':1.0},\n",
    "                             unselected_style = {'opacity': 0.8})\n",
    "\n",
    "#5. interactions, add to the mark call above, and then adding an observation function\n",
    "heat_map.observe(on_selected, 'selected')\n",
    "#figure\n",
    "fig = bqplot.Figure(marks = [heat_map], axes = [c_ax, y_ax, x_ax])\n",
    "#fig\n",
    "\n",
    "#put the label widget on top of this figure object\n",
    "\n",
    "myDashboard = ipywidgets.VBox([mySelectedLabel,fig])\n",
    "myDashboard"
   ]
  },
  {
   "cell_type": "markdown",
   "metadata": {},
   "source": [
    "## Random Heatmap + histogram with 3d data"
   ]
  },
  {
   "cell_type": "code",
   "execution_count": 81,
   "metadata": {},
   "outputs": [],
   "source": [
    "data = np.random.random((10,10,20))"
   ]
  },
  {
   "cell_type": "code",
   "execution_count": 84,
   "metadata": {},
   "outputs": [
    {
     "data": {
      "text/plain": [
       "(10, 10, 20)"
      ]
     },
     "execution_count": 84,
     "metadata": {},
     "output_type": "execute_result"
    }
   ],
   "source": [
    "#data\n",
    "data.shape"
   ]
  },
  {
   "cell_type": "code",
   "execution_count": 85,
   "metadata": {},
   "outputs": [
    {
     "data": {
      "text/plain": [
       "array([[ 7.87390095,  8.7091667 ,  9.57499097,  8.51640132, 11.67942299,\n",
       "         9.02743984, 10.10078388, 12.07109157,  9.59814112, 11.48163348],\n",
       "       [ 7.620104  , 11.25656437, 10.0428662 ,  7.94950857, 11.85990479,\n",
       "        11.0833215 , 12.56605076,  9.99701219, 10.54401877, 10.37194222],\n",
       "       [ 8.97491806, 11.5124126 , 11.73317703,  9.42674807, 11.36945767,\n",
       "        10.88176386, 10.32446833, 10.49487556, 10.79093218,  9.91807702],\n",
       "       [12.56473336,  8.45306903, 10.62623501, 11.72684176,  9.84318603,\n",
       "         8.62387133,  8.94190701,  8.41777791, 10.12816229, 10.49527378],\n",
       "       [ 9.30913499,  7.92747924, 12.05962584,  9.07840864, 10.32714705,\n",
       "         8.38265398, 11.41141984,  7.53421781,  9.57928527,  9.94614207],\n",
       "       [10.42894827,  8.59324623,  9.06907208,  9.54741482,  8.47107987,\n",
       "        11.11470457,  8.06616299, 12.18435699, 11.23700345,  9.60763612],\n",
       "       [10.04849759,  9.86908401, 11.26210355, 12.26585325, 11.39177394,\n",
       "        13.14554313, 11.72664665, 10.88740834,  7.08689936, 10.42603147],\n",
       "       [11.15508584,  9.84746138,  9.84974223,  9.38974039, 11.64436567,\n",
       "         9.49918576,  9.61957083, 10.31852354, 10.69724784,  8.28048386],\n",
       "       [ 9.72100424,  7.69165576, 10.47688897,  8.79704773, 10.25854223,\n",
       "        10.81675849, 10.1301584 , 10.27961162,  9.31729696,  8.30097898],\n",
       "       [ 9.86625582,  8.66144376, 12.30682404, 10.69140763, 13.30248806,\n",
       "        11.96261684, 11.03386743, 12.02774736,  9.3731595 ,  9.60699991]])"
      ]
     },
     "execution_count": 85,
     "metadata": {},
     "output_type": "execute_result"
    }
   ],
   "source": [
    "np.sum(data,axis=2)"
   ]
  },
  {
   "cell_type": "code",
   "execution_count": 86,
   "metadata": {},
   "outputs": [
    {
     "data": {
      "text/plain": [
       "(10, 10)"
      ]
     },
     "execution_count": 86,
     "metadata": {},
     "output_type": "execute_result"
    }
   ],
   "source": [
    "np.sum(data,axis=2).shape"
   ]
  },
  {
   "cell_type": "code",
   "execution_count": 87,
   "metadata": {},
   "outputs": [],
   "source": [
    "#we only want to enable the selection of 1 cell (a choice)\n",
    "def on_selected(change):\n",
    "    if len(change['owner'].selected)==1:\n",
    "        #print(change['owner'].selected)\n",
    "        i,j = change['owner'].selected[0]\n",
    "        v = data[i,j].sum() #FOR 3D ARRAY SUM ALONG 3D AXIS\n",
    "        mySelectedLabel.value = 'Data Value = ' + str(v)"
   ]
  },
  {
   "cell_type": "code",
   "execution_count": 88,
   "metadata": {},
   "outputs": [
    {
     "data": {
      "application/vnd.jupyter.widget-view+json": {
       "model_id": "9181d986be714125b1e499d54b14245c",
       "version_major": 2,
       "version_minor": 0
      },
      "text/plain": [
       "VBox(children=(Label(value='Data Value = 0.34699130077955254'), Figure(axes=[ColorAxis(orientation='vertical',…"
      ]
     },
     "metadata": {},
     "output_type": "display_data"
    }
   ],
   "source": [
    "#1.data, same as before\n",
    "\n",
    "#2 scales\n",
    "#2.1 color scale\n",
    "col_sc = bqplot.ColorScale(scheme = 'Blues')\n",
    "#2.2 x/y scales\n",
    "x_sc = bqplot.OrdinalScale() #for catagorical data\n",
    "y_sc = bqplot.OrdinalScale()\n",
    "\n",
    "#3. axis-- color axis means colorbar\n",
    "c_ax = bqplot.ColorAxis(scale=col_sc, orientation = 'vertical', side = 'right')\n",
    "# 3.2 x/y axis\n",
    "x_ax = bqplot.Axis(scale=x_sc)\n",
    "y_ax = bqplot.Axis(scale=y_sc, orientation = 'vertical')\n",
    "\n",
    "#4. Mark\n",
    "heat_map = bqplot.GridHeatMap(color=np.sum(data,axis=2), #HAVE CHAMGED THIS TOO\n",
    "                              scales = {'color':col_sc, 'row':y_sc, 'column':x_sc},\n",
    "                             interactions = {'click':'select'}, #clicking and slecting\n",
    "                             anchor_style = {'fill': 'red'}, #highlight slection red \n",
    "                             selected_style = {'opacity':1.0},\n",
    "                             unselected_style = {'opacity': 0.8})\n",
    "\n",
    "#5. interactions, add to the mark call above, and then adding an observation function\n",
    "heat_map.observe(on_selected, 'selected')\n",
    "#figure\n",
    "fig = bqplot.Figure(marks = [heat_map], axes = [c_ax, y_ax, x_ax])\n",
    "#fig\n",
    "\n",
    "#put the label widget on top of this figure object\n",
    "\n",
    "myDashboard = ipywidgets.VBox([mySelectedLabel,fig])\n",
    "myDashboard"
   ]
  },
  {
   "cell_type": "markdown",
   "metadata": {},
   "source": [
    "we want to be able to show a repersentation of this data along its 3rd axis."
   ]
  },
  {
   "cell_type": "code",
   "execution_count": 89,
   "metadata": {},
   "outputs": [
    {
     "data": {
      "text/plain": [
       "array([0.92683387, 0.2005734 , 0.20691282, 0.85348656, 0.11871154,\n",
       "       0.24377745, 0.21047952, 0.5835967 , 0.34232443, 0.53089018,\n",
       "       0.01241274, 0.45798437, 0.76948071, 0.31610421, 0.02521107,\n",
       "       0.25290914, 0.12841067, 0.68749102, 0.24631356, 0.75999698])"
      ]
     },
     "execution_count": 89,
     "metadata": {},
     "output_type": "execute_result"
    }
   ],
   "source": [
    "i,j = 0,0\n",
    "data[i,j]"
   ]
  },
  {
   "cell_type": "markdown",
   "metadata": {},
   "source": [
    "one thing we might want to know is what is the distribution of these data values along a selected i/j bin."
   ]
  },
  {
   "cell_type": "markdown",
   "metadata": {},
   "source": [
    "Strategy: First start with making a histogram with a \"hard-coded\" i/j combination and THEN thing about how to link it to the grid heatmap."
   ]
  },
  {
   "cell_type": "code",
   "execution_count": 93,
   "metadata": {},
   "outputs": [
    {
     "data": {
      "application/vnd.jupyter.widget-view+json": {
       "model_id": "67b6e4ba6a424719a586a31ebdd3db1a",
       "version_major": 2,
       "version_minor": 0
      },
      "text/plain": [
       "Figure(axes=[Axis(label='Values along 3rd axis of data', scale=LinearScale()), Axis(label='Frequency', orienta…"
      ]
     },
     "metadata": {},
     "output_type": "display_data"
    }
   ],
   "source": [
    "#1. data - data[i,j] where i,j hardcodwed to 0,0\n",
    "\n",
    "#2. scales\n",
    "x_sch = bqplot.LinearScale()\n",
    "y_sch = bqplot.LinearScale()\n",
    "\n",
    "#3. axis\n",
    "\n",
    "x_axh = bqplot.Axis(scale= x_sch, label = 'Values along 3rd axis of data')\n",
    "y_axh = bqplot.Axis(scale= y_sch, label = 'Frequency', orientation = 'vertical')\n",
    "#4. marks\n",
    "hist = bqplot.Hist(sample = data[i,j], normalized=False, #counts in each bin\n",
    "                  scales = {'sample':x_sch, 'count':y_sch}, bins = 5)\n",
    "\n",
    "#put it all together into a figure\n",
    "figh = bqplot.Figure(marks = [hist], axes = [x_axh, y_axh])\n",
    "figh"
   ]
  },
  {
   "cell_type": "code",
   "execution_count": 94,
   "metadata": {},
   "outputs": [
    {
     "data": {
      "text/plain": [
       "['_model_module',\n",
       " '_model_module_version',\n",
       " '_model_name',\n",
       " '_view_count',\n",
       " '_view_module',\n",
       " '_view_module_version',\n",
       " '_view_name',\n",
       " 'apply_clip',\n",
       " 'bins',\n",
       " 'colors',\n",
       " 'count',\n",
       " 'display_legend',\n",
       " 'enable_hover',\n",
       " 'interactions',\n",
       " 'labels',\n",
       " 'midpoints',\n",
       " 'normalized',\n",
       " 'opacities',\n",
       " 'preserve_domain',\n",
       " 'sample',\n",
       " 'scales',\n",
       " 'scales_metadata',\n",
       " 'selected',\n",
       " 'selected_style',\n",
       " 'stroke',\n",
       " 'tooltip',\n",
       " 'tooltip_location',\n",
       " 'tooltip_style',\n",
       " 'unselected_style',\n",
       " 'visible']"
      ]
     },
     "execution_count": 94,
     "metadata": {},
     "output_type": "execute_result"
    }
   ],
   "source": [
    "hist.keys"
   ]
  },
  {
   "cell_type": "code",
   "execution_count": 95,
   "metadata": {},
   "outputs": [
    {
     "data": {
      "text/plain": [
       "array([0.92683387, 0.2005734 , 0.20691282, 0.85348656, 0.11871154,\n",
       "       0.24377745, 0.21047952, 0.5835967 , 0.34232443, 0.53089018,\n",
       "       0.01241274, 0.45798437, 0.76948071, 0.31610421, 0.02521107,\n",
       "       0.25290914, 0.12841067, 0.68749102, 0.24631356, 0.75999698])"
      ]
     },
     "execution_count": 95,
     "metadata": {},
     "output_type": "execute_result"
    }
   ],
   "source": [
    "hist.sample"
   ]
  },
  {
   "cell_type": "raw",
   "metadata": {},
   "source": [
    "we are going to update our observation function so that the hist.sample updates when we select something"
   ]
  },
  {
   "cell_type": "code",
   "execution_count": 96,
   "metadata": {},
   "outputs": [],
   "source": [
    "#we only want to enable the selection of 1 cell (a choice)\n",
    "def on_selected(change):\n",
    "    if len(change['owner'].selected)==1:\n",
    "        #print(change['owner'].selected)\n",
    "        i,j = change['owner'].selected[0]\n",
    "        v = data[i,j].sum() #FOR 3D ARRAY SUM ALONG 3D AXIS\n",
    "        mySelectedLabel.value = 'Data Value = ' + str(v)\n",
    "        ###ADDDING IN UPDATE FOR HISTOGRAM###\n",
    "        hist.sample = data[i,j]"
   ]
  },
  {
   "cell_type": "code",
   "execution_count": 97,
   "metadata": {},
   "outputs": [
    {
     "data": {
      "application/vnd.jupyter.widget-view+json": {
       "model_id": "ce0af55f4bbb4660b113ee27975e04e5",
       "version_major": 2,
       "version_minor": 0
      },
      "text/plain": [
       "Figure(axes=[Axis(label='Values along 3rd axis of data', scale=LinearScale()), Axis(label='Frequency', orienta…"
      ]
     },
     "metadata": {},
     "output_type": "display_data"
    }
   ],
   "source": [
    "#1. data - data[i,j] where i,j hardcodwed to 0,0\n",
    "\n",
    "#2. scales\n",
    "x_sch = bqplot.LinearScale()\n",
    "y_sch = bqplot.LinearScale()\n",
    "\n",
    "#3. axis\n",
    "\n",
    "x_axh = bqplot.Axis(scale= x_sch, label = 'Values along 3rd axis of data')\n",
    "y_axh = bqplot.Axis(scale= y_sch, label = 'Frequency', orientation = 'vertical')\n",
    "#4. marks\n",
    "hist = bqplot.Hist(sample = data[i,j], normalized=False, #counts in each bin\n",
    "                  scales = {'sample':x_sch, 'count':y_sch}, bins = 5)\n",
    "\n",
    "#put it all together into a figure\n",
    "figh = bqplot.Figure(marks = [hist], axes = [x_axh, y_axh])\n",
    "figh"
   ]
  },
  {
   "cell_type": "code",
   "execution_count": 98,
   "metadata": {},
   "outputs": [
    {
     "data": {
      "application/vnd.jupyter.widget-view+json": {
       "model_id": "b7b5b146e01a4d13b3baf26f8caffbe9",
       "version_major": 2,
       "version_minor": 0
      },
      "text/plain": [
       "VBox(children=(Label(value='Data Value = 8.30097898474794'), Figure(axes=[ColorAxis(orientation='vertical', sc…"
      ]
     },
     "metadata": {},
     "output_type": "display_data"
    }
   ],
   "source": [
    "#1.data, same as before\n",
    "\n",
    "#2 scales\n",
    "#2.1 color scale\n",
    "col_sc = bqplot.ColorScale(scheme = 'Blues')\n",
    "#2.2 x/y scales\n",
    "x_sc = bqplot.OrdinalScale() #for catagorical data\n",
    "y_sc = bqplot.OrdinalScale()\n",
    "\n",
    "#3. axis-- color axis means colorbar\n",
    "c_ax = bqplot.ColorAxis(scale=col_sc, orientation = 'vertical', side = 'right')\n",
    "# 3.2 x/y axis\n",
    "x_ax = bqplot.Axis(scale=x_sc)\n",
    "y_ax = bqplot.Axis(scale=y_sc, orientation = 'vertical')\n",
    "\n",
    "#4. Mark\n",
    "heat_map = bqplot.GridHeatMap(color=np.sum(data,axis=2), #HAVE CHAMGED THIS TOO\n",
    "                              scales = {'color':col_sc, 'row':y_sc, 'column':x_sc},\n",
    "                             interactions = {'click':'select'}, #clicking and slecting\n",
    "                             anchor_style = {'fill': 'red'}, #highlight slection red \n",
    "                             selected_style = {'opacity':1.0},\n",
    "                             unselected_style = {'opacity': 0.8})\n",
    "\n",
    "#5. interactions, add to the mark call above, and then adding an observation function\n",
    "heat_map.observe(on_selected, 'selected')\n",
    "#figure\n",
    "fig = bqplot.Figure(marks = [heat_map], axes = [c_ax, y_ax, x_ax])\n",
    "#fig\n",
    "\n",
    "#put the label widget on top of this figure object\n",
    "\n",
    "myDashboard = ipywidgets.VBox([mySelectedLabel,fig])\n",
    "myDashboard"
   ]
  },
  {
   "cell_type": "markdown",
   "metadata": {},
   "source": [
    "do more complex layout stuff"
   ]
  },
  {
   "cell_type": "code",
   "execution_count": 100,
   "metadata": {},
   "outputs": [
    {
     "data": {
      "application/vnd.jupyter.widget-view+json": {
       "model_id": "f195f1a8ed2d4bb99b180d217ee69b2d",
       "version_major": 2,
       "version_minor": 0
      },
      "text/plain": [
       "VBox(children=(Label(value='Data Value = 7.6201040045190345'), HBox(children=(Figure(axes=[ColorAxis(orientati…"
      ]
     },
     "metadata": {},
     "output_type": "display_data"
    }
   ],
   "source": [
    "figures = ipywidgets.HBox([fig, figh])#heatmap then histogram\n",
    "\n",
    "myDashboard = ipywidgets.VBox([mySelectedLabel, figures])\n",
    "myDashboard"
   ]
  },
  {
   "cell_type": "code",
   "execution_count": 102,
   "metadata": {},
   "outputs": [],
   "source": [
    "#further mess with the display\n",
    "fig.layout.min_width = '400px'\n",
    "figh.layout.min_width = '400px'"
   ]
  },
  {
   "cell_type": "code",
   "execution_count": 103,
   "metadata": {},
   "outputs": [
    {
     "data": {
      "text/plain": [
       "5"
      ]
     },
     "execution_count": 103,
     "metadata": {},
     "output_type": "execute_result"
    }
   ],
   "source": [
    "hist.bins"
   ]
  },
  {
   "cell_type": "markdown",
   "metadata": {},
   "source": [
    "make a bin widget to change the number of bins of our histogram\n"
   ]
  },
  {
   "cell_type": "code",
   "execution_count": 104,
   "metadata": {},
   "outputs": [
    {
     "data": {
      "application/vnd.jupyter.widget-view+json": {
       "model_id": "9de3d07273c948c2b611871df4ac1c9c",
       "version_major": 2,
       "version_minor": 0
      },
      "text/plain": [
       "IntSlider(value=5, max=20, min=1)"
      ]
     },
     "metadata": {},
     "output_type": "display_data"
    }
   ],
   "source": [
    "bins_slider =  ipywidgets.IntSlider(value = 5, min = 1, max = data.shape[2])\n",
    "bins_slider"
   ]
  },
  {
   "cell_type": "markdown",
   "metadata": {},
   "source": [
    "we'll use 'jslink' to link the Trait of hist of bins to updates in this slider's value"
   ]
  },
  {
   "cell_type": "code",
   "execution_count": 105,
   "metadata": {},
   "outputs": [
    {
     "data": {
      "text/plain": [
       "Link(source=(IntSlider(value=1, max=20, min=1), 'value'), target=(Hist(bins=5, colors=['steelblue'], count=arr…"
      ]
     },
     "metadata": {},
     "output_type": "display_data"
    }
   ],
   "source": [
    "ipywidgets.jslink((bins_slider,'value'),(hist,'bins'))"
   ]
  },
  {
   "cell_type": "markdown",
   "metadata": {},
   "source": [
    "rebuild dashboard so that ive got everything in one place"
   ]
  },
  {
   "cell_type": "code",
   "execution_count": 107,
   "metadata": {},
   "outputs": [
    {
     "data": {
      "application/vnd.jupyter.widget-view+json": {
       "model_id": "13d3d9229d0c48e0bce7d357b96460ef",
       "version_major": 2,
       "version_minor": 0
      },
      "text/plain": [
       "VBox(children=(HBox(children=(Label(value='Data Value = 13.145543133611277'), IntSlider(value=1, max=20, min=1…"
      ]
     },
     "metadata": {},
     "output_type": "display_data"
    }
   ],
   "source": [
    "figures = ipywidgets.HBox([fig,figh])\n",
    "controls_etc = ipywidgets.HBox([mySelectedLabel, bins_slider])\n",
    "\n",
    "myDashboard = ipywidgets.VBox([controls_etc, figures])\n",
    "myDashboard"
   ]
  },
  {
   "cell_type": "markdown",
   "metadata": {},
   "source": [
    "# did not copy her testing, watch the video"
   ]
  },
  {
   "cell_type": "code",
   "execution_count": null,
   "metadata": {},
   "outputs": [],
   "source": []
  }
 ],
 "metadata": {
  "kernelspec": {
   "display_name": "Python 3",
   "language": "python",
   "name": "python3"
  },
  "language_info": {
   "codemirror_mode": {
    "name": "ipython",
    "version": 3
   },
   "file_extension": ".py",
   "mimetype": "text/x-python",
   "name": "python",
   "nbconvert_exporter": "python",
   "pygments_lexer": "ipython3",
   "version": "3.8.5"
  }
 },
 "nbformat": 4,
 "nbformat_minor": 4
}
